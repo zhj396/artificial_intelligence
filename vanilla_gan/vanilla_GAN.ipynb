{
  "cells": [
    {
      "cell_type": "markdown",
      "metadata": {
        "id": "view-in-github",
        "colab_type": "text"
      },
      "source": [
        "<a href=\"https://colab.research.google.com/github/zhj396/artificial_intelligence/blob/main/vanilla_gan/vanilla_GAN.ipynb\" target=\"_parent\"><img src=\"https://colab.research.google.com/assets/colab-badge.svg\" alt=\"Open In Colab\"/></a>"
      ]
    },
    {
      "cell_type": "code",
      "execution_count": 4,
      "id": "266847d7-a5a0-4e59-86dd-82226ecee747",
      "metadata": {
        "id": "266847d7-a5a0-4e59-86dd-82226ecee747"
      },
      "outputs": [],
      "source": [
        "# 导入第三方库\n",
        "import tensorflow as tf\n",
        "import numpy as np\n",
        "import matplotlib.pyplot as plt"
      ]
    },
    {
      "cell_type": "code",
      "execution_count": 5,
      "id": "7f39d72f-90d4-49e7-a834-6b7e4538faa7",
      "metadata": {
        "id": "7f39d72f-90d4-49e7-a834-6b7e4538faa7",
        "outputId": "b968270f-3966-40a6-d6ae-1216525e3000",
        "colab": {
          "base_uri": "https://localhost:8080/",
          "height": 430
        }
      },
      "outputs": [
        {
          "output_type": "display_data",
          "data": {
            "text/plain": [
              "<Figure size 640x480 with 1 Axes>"
            ],
            "image/png": "[encoded data removed]"
          },
          "metadata": {}
        }
      ],
      "source": [
        "# 加载MNIST数据集\n",
        "mnist = tf.keras.datasets.mnist\n",
        "(train_images, train_labels), (test_images, test_labels) = mnist.load_data()\n",
        "\n",
        "# 显示第500个训练图像\n",
        "img = train_images[499]  # Python是0-based索引\n",
        "plt.imshow(img, cmap='Greys_r')\n",
        "plt.show()\n",
        "\n",
        "train_images = (train_images.astype(np.float32) - 127.5) / 127.5  # 归一化到 [-1, 1]\n",
        "train_images = train_images.reshape(-1, 784)  # 展平 (60000, 784)"
      ]
    },
    {
      "cell_type": "code",
      "execution_count": 6,
      "id": "3de15066-a159-48f5-baaf-bad57612a04b",
      "metadata": {
        "id": "3de15066-a159-48f5-baaf-bad57612a04b"
      },
      "outputs": [],
      "source": [
        "# 生成器（Generator）\n",
        "from tensorflow.keras import layers, Model\n",
        "\n",
        "def build_generator(noise_dim, units=128, out_dim=784):\n",
        "    model = tf.keras.Sequential([\n",
        "        layers.Dense(units, input_dim=noise_dim),  # 全连接层\n",
        "        layers.LeakyReLU(alpha=0.01),              # LeakyReLU 激活\n",
        "        layers.Dropout(0.2),                       # Dropout\n",
        "        layers.Dense(out_dim, activation='tanh'),  # 输出层，tanh 激活（-1 到 1）\n",
        "    ])\n",
        "    return model"
      ]
    },
    {
      "cell_type": "code",
      "execution_count": 7,
      "id": "8705a540-d09c-42db-8636-59a1ae056418",
      "metadata": {
        "id": "8705a540-d09c-42db-8636-59a1ae056418"
      },
      "outputs": [],
      "source": [
        "# 判别器（Discriminator）\n",
        "def build_discriminator(img_dim=784, units=128):\n",
        "    model = tf.keras.Sequential([\n",
        "        layers.Dense(units, input_dim=img_dim),    # 全连接层\n",
        "        layers.LeakyReLU(alpha=0.01),              # LeakyReLU 激活\n",
        "        layers.Dense(1, activation='sigmoid'),     # 输出层，sigmoid 激活（0 到 1）\n",
        "    ])\n",
        "    return model"
      ]
    },
    {
      "cell_type": "code",
      "execution_count": 8,
      "id": "7ca3cf3b-e0ee-4129-b0b1-c2fee8019416",
      "metadata": {
        "id": "7ca3cf3b-e0ee-4129-b0b1-c2fee8019416",
        "outputId": "827d8ce0-9721-4bd5-9e54-1e2cd0cb991a",
        "colab": {
          "base_uri": "https://localhost:8080/"
        }
      },
      "outputs": [
        {
          "output_type": "stream",
          "name": "stderr",
          "text": [
            "/usr/local/lib/python3.11/dist-packages/keras/src/layers/core/dense.py:87: UserWarning: Do not pass an `input_shape`/`input_dim` argument to a layer. When using Sequential models, prefer using an `Input(shape)` object as the first layer in the model instead.\n",
            "  super().__init__(activity_regularizer=activity_regularizer, **kwargs)\n",
            "/usr/local/lib/python3.11/dist-packages/keras/src/layers/activations/leaky_relu.py:41: UserWarning: Argument `alpha` is deprecated. Use `negative_slope` instead.\n",
            "  warnings.warn(\n"
          ]
        }
      ],
      "source": [
        "# 定义 GAN\n",
        "noise_dim = 100\n",
        "generator = build_generator(noise_dim)\n",
        "discriminator = build_discriminator()\n",
        "\n",
        "# 定义优化器\n",
        "generator_optimizer = tf.keras.optimizers.Adam(0.0002, beta_1=0.5)\n",
        "discriminator_optimizer = tf.keras.optimizers.Adam(0.0002, beta_1=0.5)\n",
        "\n",
        "# 定义损失函数\n",
        "cross_entropy = tf.keras.losses.BinaryCrossentropy()\n",
        "\n",
        "# 训练步骤\n",
        "@tf.function\n",
        "def train_step(real_images):\n",
        "    batch_size = tf.shape(real_images)[0]\n",
        "    noise = tf.random.normal([batch_size, noise_dim])  # 生成噪声\n",
        "\n",
        "    with tf.GradientTape() as gen_tape, tf.GradientTape() as disc_tape:\n",
        "        # 生成假图片\n",
        "        fake_images = generator(noise, training=True)\n",
        "\n",
        "        # 判别器判断真假\n",
        "        real_output = discriminator(real_images, training=True)\n",
        "        fake_output = discriminator(fake_images, training=True)\n",
        "\n",
        "        # 计算损失\n",
        "        gen_loss = cross_entropy(tf.ones_like(fake_output), fake_output)  # 生成器希望判别器认为假图片是真的\n",
        "        disc_loss_real = cross_entropy(tf.ones_like(real_output), real_output)\n",
        "        disc_loss_fake = cross_entropy(tf.zeros_like(fake_output), fake_output)\n",
        "        disc_loss = disc_loss_real + disc_loss_fake  # 判别器总损失\n",
        "\n",
        "    # 计算梯度并更新\n",
        "    gradients_of_generator = gen_tape.gradient(gen_loss, generator.trainable_variables)\n",
        "    gradients_of_discriminator = disc_tape.gradient(disc_loss, discriminator.trainable_variables)\n",
        "\n",
        "    generator_optimizer.apply_gradients(zip(gradients_of_generator, generator.trainable_variables))\n",
        "    discriminator_optimizer.apply_gradients(zip(gradients_of_discriminator, discriminator.trainable_variables))\n",
        "\n",
        "    return gen_loss, disc_loss"
      ]
    },
    {
      "cell_type": "code",
      "execution_count": 9,
      "id": "5b69cc48-c3df-43c4-a874-460ae3665d8d",
      "metadata": {
        "id": "5b69cc48-c3df-43c4-a874-460ae3665d8d",
        "outputId": "c058cada-bd25-4bed-e3ae-94321260c753",
        "colab": {
          "base_uri": "https://localhost:8080/"
        }
      },
      "outputs": [
        {
          "output_type": "stream",
          "name": "stdout",
          "text": [
            "Epoch 0, Gen Loss: 1.054263949394226, Disc Loss: 0.963017463684082\n",
            "Epoch 10, Gen Loss: 1.7545113563537598, Disc Loss: 0.9182289838790894\n",
            "Epoch 20, Gen Loss: 2.372159004211426, Disc Loss: 0.9838029742240906\n",
            "Epoch 30, Gen Loss: 1.5550413131713867, Disc Loss: 0.8574496507644653\n",
            "Epoch 40, Gen Loss: 1.7868788242340088, Disc Loss: 0.9098373651504517\n",
            "Epoch 50, Gen Loss: 1.9440635442733765, Disc Loss: 0.9921630620956421\n",
            "Epoch 60, Gen Loss: 2.118140935897827, Disc Loss: 1.0150541067123413\n",
            "Epoch 70, Gen Loss: 1.6979858875274658, Disc Loss: 0.9104926586151123\n",
            "Epoch 80, Gen Loss: 1.6248338222503662, Disc Loss: 0.907141387462616\n",
            "Epoch 90, Gen Loss: 1.7359466552734375, Disc Loss: 0.7817238569259644\n"
          ]
        }
      ],
      "source": [
        "# 训练循环\n",
        "epochs = 100\n",
        "batch_size = 64\n",
        "\n",
        "for epoch in range(epochs):\n",
        "    for i in range(len(train_images) // batch_size):\n",
        "        batch = train_images[i * batch_size : (i + 1) * batch_size]\n",
        "        gen_loss, disc_loss = train_step(batch)\n",
        "\n",
        "    # 每 10 个 epoch 打印一次\n",
        "    if epoch % 10 == 0:\n",
        "        print(f\"Epoch {epoch}, Gen Loss: {gen_loss}, Disc Loss: {disc_loss}\")"
      ]
    },
    {
      "cell_type": "code",
      "execution_count": 10,
      "id": "6f7c4602-5eb2-4d57-ad29-d05333df6238",
      "metadata": {
        "id": "6f7c4602-5eb2-4d57-ad29-d05333df6238",
        "outputId": "84e0197a-d661-4f74-dc26-5ee52e589b27",
        "colab": {
          "base_uri": "https://localhost:8080/"
        }
      },
      "outputs": [
        {
          "output_type": "stream",
          "name": "stderr",
          "text": [
            "WARNING:absl:You are saving your model as an HDF5 file via `model.save()` or `keras.saving.save_model(model)`. This file format is considered legacy. We recommend using instead the native Keras format, e.g. `model.save('my_model.keras')` or `keras.saving.save_model(model, 'my_model.keras')`. \n",
            "WARNING:absl:You are saving your model as an HDF5 file via `model.save()` or `keras.saving.save_model(model)`. This file format is considered legacy. We recommend using instead the native Keras format, e.g. `model.save('my_model.keras')` or `keras.saving.save_model(model, 'my_model.keras')`. \n"
          ]
        }
      ],
      "source": [
        "# 保存为 HDF5\n",
        "generator.save('generator.h5')\n",
        "discriminator.save('discriminator.h5')"
      ]
    },
    {
      "cell_type": "code",
      "execution_count": 11,
      "id": "ec5fa5ff-916f-42df-9852-29555c72c6f6",
      "metadata": {
        "id": "ec5fa5ff-916f-42df-9852-29555c72c6f6",
        "outputId": "159813e6-c9a9-4ca9-9f1b-68136f2ffde2",
        "colab": {
          "base_uri": "https://localhost:8080/",
          "height": 842
        }
      },
      "outputs": [
        {
          "output_type": "stream",
          "name": "stderr",
          "text": [
            "WARNING:absl:No training configuration found in the save file, so the model was *not* compiled. Compile it manually.\n",
            "WARNING:absl:No training configuration found in the save file, so the model was *not* compiled. Compile it manually.\n"
          ]
        },
        {
          "output_type": "display_data",
          "data": {
            "text/plain": [
              "<Figure size 1000x1000 with 9 Axes>"
            ],
            "image/png": "[encoded data removed]"
          },
          "metadata": {}
        }
      ],
      "source": [
        "import tensorflow as tf\n",
        "import numpy as np\n",
        "import matplotlib.pyplot as plt\n",
        "\n",
        "# 1. 加载生成器\n",
        "# 从 HDF5 加载\n",
        "generator = tf.keras.models.load_model('generator.h5')\n",
        "discriminator = tf.keras.models.load_model('discriminator.h5')\n",
        "\n",
        "# 2. 生成随机噪声\n",
        "noise_dim = 100\n",
        "num_samples = 9\n",
        "noise = tf.random.normal([num_samples, noise_dim])\n",
        "\n",
        "# 3. 生成图像\n",
        "generated_images = generator(noise, training=False).numpy()  # 转换为 NumPy 数组\n",
        "\n",
        "# 4. 调整形状\n",
        "if len(generated_images.shape) == 2:  # 形状为 (batch_size, 784)\n",
        "    generated_images = generated_images.reshape(-1, 28, 28)\n",
        "elif len(generated_images.shape) == 4:  # 形状为 (batch_size, 28, 28, 1)\n",
        "    generated_images = generated_images.squeeze()  # 去除通道维度\n",
        "\n",
        "# 5. 归一化到 [0, 255] 并转换为 uint8\n",
        "generated_images = (generated_images * 127.5 + 127.5).astype(np.uint8)\n",
        "\n",
        "# 6. 显示图像\n",
        "plt.figure(figsize=(10, 10))\n",
        "num_samples = min(num_samples, generated_images.shape[0])  # 防止索引越界\n",
        "for i in range(num_samples):\n",
        "    plt.subplot(3, 3, i+1)\n",
        "    plt.imshow(generated_images[i], cmap='gray')\n",
        "    plt.axis('off')\n",
        "plt.show()"
      ]
    },
    {
      "cell_type": "code",
      "execution_count": 12,
      "id": "9c2cbfc4-1e78-41c0-b0a6-d348194d6e88",
      "metadata": {
        "id": "9c2cbfc4-1e78-41c0-b0a6-d348194d6e88"
      },
      "outputs": [],
      "source": [
        "# 保存生成的图片\n",
        "from PIL import Image\n",
        "\n",
        "for i in range(num_samples):\n",
        "    img = Image.fromarray(generated_images[i])\n",
        "    img.save(f'generated_image_{i}.png')"
      ]
    }
  ],
  "metadata": {
    "kernelspec": {
      "display_name": "Python 3 (ipykernel)",
      "language": "python",
      "name": "python3"
    },
    "language_info": {
      "codemirror_mode": {
        "name": "ipython",
        "version": 3
      },
      "file_extension": ".py",
      "mimetype": "text/x-python",
      "name": "python",
      "nbconvert_exporter": "python",
      "pygments_lexer": "ipython3",
      "version": "3.8.10"
    },
    "colab": {
      "provenance": [],
      "include_colab_link": true
    }
  },
  "nbformat": 4,
  "nbformat_minor": 5
}