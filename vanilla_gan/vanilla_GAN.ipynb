{
  "cells": [
    {
      "cell_type": "code",
      "execution_count": null,
      "id": "266847d7-a5a0-4e59-86dd-82226ecee747",
      "metadata": {
        "id": "266847d7-a5a0-4e59-86dd-82226ecee747"
      },
      "outputs": [],
      "source": [
        "# 导入第三方库\n",
        "import tensorflow as tf\n",
        "import numpy as np\n",
        "import matplotlib.pyplot as plt"
      ]
    },
    {
      "cell_type": "code",
      "execution_count": null,
      "id": "7f39d72f-90d4-49e7-a834-6b7e4538faa7",
      "metadata": {
        "id": "7f39d72f-90d4-49e7-a834-6b7e4538faa7",
        "outputId": "d7d82e06-f9e9-4e2e-b780-f831cfb8bea4",
        "colab": {
          "base_uri": "https://localhost:8080/",
          "height": 465
        }
      },
      "outputs": [
        {
          "output_type": "stream",
          "name": "stdout",
          "text": [
            "Downloading data from https://storage.googleapis.com/tensorflow/tf-keras-datasets/mnist.npz\n",
            "\u001b[1m11490434/11490434\u001b[0m \u001b[32m━━━━━━━━━━━━━━━━━━━━\u001b[0m\u001b[37m\u001b[0m \u001b[1m0s\u001b[0m 0us/step\n"
          ]
        },
        {
          "output_type": "display_data",
          "data": {
            "text/plain": [
              "<Figure size 640x480 with 1 Axes>"
            ],
            "image/png": "[encoded data removed]"
          },
          "metadata": {}
        }
      ],
      "source": [
        "# 加载MNIST数据集\n",
        "mnist = tf.keras.datasets.mnist\n",
        "(train_images, train_labels), (test_images, test_labels) = mnist.load_data()\n",
        "\n",
        "# 显示第500个训练图像\n",
        "img = train_images[499]  # Python是0-based索引\n",
        "plt.imshow(img, cmap='Greys_r')\n",
        "plt.show()\n",
        "\n",
        "train_images = (train_images.astype(np.float32) - 127.5) / 127.5  # 归一化到 [-1, 1]\n",
        "train_images = train_images.reshape(-1, 784)  # 展平 (60000, 784)"
      ]
    },
    {
      "cell_type": "code",
      "execution_count": null,
      "id": "3de15066-a159-48f5-baaf-bad57612a04b",
      "metadata": {
        "id": "3de15066-a159-48f5-baaf-bad57612a04b"
      },
      "outputs": [],
      "source": [
        "# 生成器（Generator）\n",
        "from tensorflow.keras import layers, Model\n",
        "\n",
        "def build_generator(noise_dim, units=128, out_dim=784):\n",
        "    model = tf.keras.Sequential([\n",
        "        layers.Dense(units, input_dim=noise_dim),  # 全连接层\n",
        "        layers.LeakyReLU(alpha=0.01),              # LeakyReLU 激活\n",
        "        layers.Dropout(0.2),                       # Dropout\n",
        "        layers.Dense(out_dim, activation='tanh'),  # 输出层，tanh 激活（-1 到 1）\n",
        "    ])\n",
        "    return model\n",
        "\n",
        "# 示例用法\n",
        "# noise_dim = 100\n",
        "# generator = build_generator(noise_dim)\n",
        "# generator.summary()  # 查看模型结构"
      ]
    },
    {
      "cell_type": "code",
      "execution_count": null,
      "id": "8705a540-d09c-42db-8636-59a1ae056418",
      "metadata": {
        "id": "8705a540-d09c-42db-8636-59a1ae056418"
      },
      "outputs": [],
      "source": [
        "# 判别器（Discriminator）\n",
        "def build_discriminator(img_dim=784, units=128):\n",
        "    model = tf.keras.Sequential([\n",
        "        layers.Dense(units, input_dim=img_dim),    # 全连接层\n",
        "        layers.LeakyReLU(alpha=0.01),              # LeakyReLU 激活\n",
        "        layers.Dense(1, activation='sigmoid'),     # 输出层，sigmoid 激活（0 到 1）\n",
        "    ])\n",
        "    return model\n",
        "\n",
        "# 示例用法\n",
        "# discriminator = build_discriminator()\n",
        "# discriminator.summary()  # 查看模型结构"
      ]
    },
    {
      "cell_type": "code",
      "execution_count": null,
      "id": "7ca3cf3b-e0ee-4129-b0b1-c2fee8019416",
      "metadata": {
        "id": "7ca3cf3b-e0ee-4129-b0b1-c2fee8019416",
        "outputId": "b164a7f3-bd36-4c13-f3b9-89b349a30ff0",
        "colab": {
          "base_uri": "https://localhost:8080/"
        }
      },
      "outputs": [
        {
          "output_type": "stream",
          "name": "stderr",
          "text": [
            "/usr/local/lib/python3.11/dist-packages/keras/src/layers/core/dense.py:87: UserWarning: Do not pass an `input_shape`/`input_dim` argument to a layer. When using Sequential models, prefer using an `Input(shape)` object as the first layer in the model instead.\n",
            "  super().__init__(activity_regularizer=activity_regularizer, **kwargs)\n",
            "/usr/local/lib/python3.11/dist-packages/keras/src/layers/activations/leaky_relu.py:41: UserWarning: Argument `alpha` is deprecated. Use `negative_slope` instead.\n",
            "  warnings.warn(\n"
          ]
        }
      ],
      "source": [
        "# 定义 GAN\n",
        "noise_dim = 100\n",
        "generator = build_generator(noise_dim)\n",
        "discriminator = build_discriminator()\n",
        "\n",
        "# 定义优化器\n",
        "generator_optimizer = tf.keras.optimizers.Adam(0.0002, beta_1=0.5)\n",
        "discriminator_optimizer = tf.keras.optimizers.Adam(0.0002, beta_1=0.5)\n",
        "\n",
        "# 定义损失函数\n",
        "cross_entropy = tf.keras.losses.BinaryCrossentropy()\n",
        "\n",
        "# 训练步骤\n",
        "@tf.function\n",
        "def train_step(real_images):\n",
        "    batch_size = tf.shape(real_images)[0]\n",
        "    noise = tf.random.normal([batch_size, noise_dim])  # 生成噪声\n",
        "\n",
        "    with tf.GradientTape() as gen_tape, tf.GradientTape() as disc_tape:\n",
        "        # 生成假图片\n",
        "        fake_images = generator(noise, training=True)\n",
        "\n",
        "        # 判别器判断真假\n",
        "        real_output = discriminator(real_images, training=True)\n",
        "        fake_output = discriminator(fake_images, training=True)\n",
        "\n",
        "        # 计算损失\n",
        "        gen_loss = cross_entropy(tf.ones_like(fake_output), fake_output)  # 生成器希望判别器认为假图片是真的\n",
        "        disc_loss_real = cross_entropy(tf.ones_like(real_output), real_output)\n",
        "        disc_loss_fake = cross_entropy(tf.zeros_like(fake_output), fake_output)\n",
        "        disc_loss = disc_loss_real + disc_loss_fake  # 判别器总损失\n",
        "\n",
        "    # 计算梯度并更新\n",
        "    gradients_of_generator = gen_tape.gradient(gen_loss, generator.trainable_variables)\n",
        "    gradients_of_discriminator = disc_tape.gradient(disc_loss, discriminator.trainable_variables)\n",
        "\n",
        "    generator_optimizer.apply_gradients(zip(gradients_of_generator, generator.trainable_variables))\n",
        "    discriminator_optimizer.apply_gradients(zip(gradients_of_discriminator, discriminator.trainable_variables))\n",
        "\n",
        "    return gen_loss, disc_loss"
      ]
    },
    {
      "cell_type": "code",
      "execution_count": null,
      "id": "5b69cc48-c3df-43c4-a874-460ae3665d8d",
      "metadata": {
        "id": "5b69cc48-c3df-43c4-a874-460ae3665d8d",
        "outputId": "dbabafec-436c-46f0-b7cd-5ab1752d2059",
        "colab": {
          "base_uri": "https://localhost:8080/"
        }
      },
      "outputs": [
        {
          "output_type": "stream",
          "name": "stdout",
          "text": [
            "Epoch 0, Gen Loss: 1.024254322052002, Disc Loss: 0.8781380653381348\n",
            "Epoch 10, Gen Loss: 1.4957537651062012, Disc Loss: 0.8526292443275452\n",
            "Epoch 20, Gen Loss: 1.8029738664627075, Disc Loss: 1.210627794265747\n",
            "Epoch 30, Gen Loss: 1.8676540851593018, Disc Loss: 1.3218262195587158\n",
            "Epoch 40, Gen Loss: 2.321906566619873, Disc Loss: 1.2411104440689087\n",
            "Epoch 50, Gen Loss: 2.208618402481079, Disc Loss: 0.9429606199264526\n",
            "Epoch 60, Gen Loss: 1.978503704071045, Disc Loss: 0.9275587201118469\n",
            "Epoch 70, Gen Loss: 1.7493127584457397, Disc Loss: 0.7592171430587769\n",
            "Epoch 80, Gen Loss: 1.7070739269256592, Disc Loss: 0.9322056770324707\n",
            "Epoch 90, Gen Loss: 2.2331552505493164, Disc Loss: 0.8067026734352112\n"
          ]
        }
      ],
      "source": [
        "# 训练循环\n",
        "epochs = 100\n",
        "batch_size = 64\n",
        "\n",
        "for epoch in range(epochs):\n",
        "    for i in range(len(train_images) // batch_size):\n",
        "        batch = train_images[i * batch_size : (i + 1) * batch_size]\n",
        "        gen_loss, disc_loss = train_step(batch)\n",
        "\n",
        "    # 每 10 个 epoch 打印一次\n",
        "    if epoch % 10 == 0:\n",
        "        print(f\"Epoch {epoch}, Gen Loss: {gen_loss}, Disc Loss: {disc_loss}\")"
      ]
    },
    {
      "cell_type": "code",
      "execution_count": null,
      "id": "6f7c4602-5eb2-4d57-ad29-d05333df6238",
      "metadata": {
        "id": "6f7c4602-5eb2-4d57-ad29-d05333df6238",
        "outputId": "333750b3-dbd7-48d2-a4cc-84b55b09f8a5",
        "colab": {
          "base_uri": "https://localhost:8080/",
          "height": 393
        }
      },
      "outputs": [
        {
          "output_type": "stream",
          "name": "stderr",
          "text": [
            "WARNING:absl:You are saving your model as an HDF5 file via `model.save()` or `keras.saving.save_model(model)`. This file format is considered legacy. We recommend using instead the native Keras format, e.g. `model.save('my_model.keras')` or `keras.saving.save_model(model, 'my_model.keras')`. \n",
            "WARNING:absl:You are saving your model as an HDF5 file via `model.save()` or `keras.saving.save_model(model)`. This file format is considered legacy. We recommend using instead the native Keras format, e.g. `model.save('my_model.keras')` or `keras.saving.save_model(model, 'my_model.keras')`. \n"
          ]
        },
        {
          "output_type": "error",
          "ename": "ValueError",
          "evalue": "The filename must end in `.weights.h5`. Received: filepath=generator_weights.h5",
          "traceback": [
            "\u001b[0;31m---------------------------------------------------------------------------\u001b[0m",
            "\u001b[0;31mValueError\u001b[0m                                Traceback (most recent call last)",
            "\u001b[0;32m<ipython-input-7-4121122698>\u001b[0m in \u001b[0;36m<cell line: 0>\u001b[0;34m()\u001b[0m\n\u001b[1;32m      8\u001b[0m \u001b[0;34m\u001b[0m\u001b[0m\n\u001b[1;32m      9\u001b[0m \u001b[0;31m# 仅保存权重\u001b[0m\u001b[0;34m\u001b[0m\u001b[0;34m\u001b[0m\u001b[0m\n\u001b[0;32m---> 10\u001b[0;31m \u001b[0mgenerator\u001b[0m\u001b[0;34m.\u001b[0m\u001b[0msave_weights\u001b[0m\u001b[0;34m(\u001b[0m\u001b[0;34m'generator_weights.h5'\u001b[0m\u001b[0;34m)\u001b[0m\u001b[0;34m\u001b[0m\u001b[0;34m\u001b[0m\u001b[0m\n\u001b[0m\u001b[1;32m     11\u001b[0m \u001b[0mdiscriminator\u001b[0m\u001b[0;34m.\u001b[0m\u001b[0msave_weights\u001b[0m\u001b[0;34m(\u001b[0m\u001b[0;34m'discriminator_weights.h5'\u001b[0m\u001b[0;34m)\u001b[0m\u001b[0;34m\u001b[0m\u001b[0;34m\u001b[0m\u001b[0m\n",
            "\u001b[0;32m/usr/local/lib/python3.11/dist-packages/keras/src/utils/traceback_utils.py\u001b[0m in \u001b[0;36merror_handler\u001b[0;34m(*args, **kwargs)\u001b[0m\n\u001b[1;32m    120\u001b[0m             \u001b[0;31m# To get the full stack trace, call:\u001b[0m\u001b[0;34m\u001b[0m\u001b[0;34m\u001b[0m\u001b[0m\n\u001b[1;32m    121\u001b[0m             \u001b[0;31m# `keras.config.disable_traceback_filtering()`\u001b[0m\u001b[0;34m\u001b[0m\u001b[0;34m\u001b[0m\u001b[0m\n\u001b[0;32m--> 122\u001b[0;31m             \u001b[0;32mraise\u001b[0m \u001b[0me\u001b[0m\u001b[0;34m.\u001b[0m\u001b[0mwith_traceback\u001b[0m\u001b[0;34m(\u001b[0m\u001b[0mfiltered_tb\u001b[0m\u001b[0;34m)\u001b[0m \u001b[0;32mfrom\u001b[0m \u001b[0;32mNone\u001b[0m\u001b[0;34m\u001b[0m\u001b[0;34m\u001b[0m\u001b[0m\n\u001b[0m\u001b[1;32m    123\u001b[0m         \u001b[0;32mfinally\u001b[0m\u001b[0;34m:\u001b[0m\u001b[0;34m\u001b[0m\u001b[0;34m\u001b[0m\u001b[0m\n\u001b[1;32m    124\u001b[0m             \u001b[0;32mdel\u001b[0m \u001b[0mfiltered_tb\u001b[0m\u001b[0;34m\u001b[0m\u001b[0;34m\u001b[0m\u001b[0m\n",
            "\u001b[0;32m/usr/local/lib/python3.11/dist-packages/keras/src/saving/saving_api.py\u001b[0m in \u001b[0;36msave_weights\u001b[0;34m(model, filepath, overwrite, **kwargs)\u001b[0m\n\u001b[1;32m    222\u001b[0m \u001b[0;32mdef\u001b[0m \u001b[0msave_weights\u001b[0m\u001b[0;34m(\u001b[0m\u001b[0mmodel\u001b[0m\u001b[0;34m,\u001b[0m \u001b[0mfilepath\u001b[0m\u001b[0;34m,\u001b[0m \u001b[0moverwrite\u001b[0m\u001b[0;34m=\u001b[0m\u001b[0;32mTrue\u001b[0m\u001b[0;34m,\u001b[0m \u001b[0;34m**\u001b[0m\u001b[0mkwargs\u001b[0m\u001b[0;34m)\u001b[0m\u001b[0;34m:\u001b[0m\u001b[0;34m\u001b[0m\u001b[0;34m\u001b[0m\u001b[0m\n\u001b[1;32m    223\u001b[0m     \u001b[0;32mif\u001b[0m \u001b[0;32mnot\u001b[0m \u001b[0mstr\u001b[0m\u001b[0;34m(\u001b[0m\u001b[0mfilepath\u001b[0m\u001b[0;34m)\u001b[0m\u001b[0;34m.\u001b[0m\u001b[0mendswith\u001b[0m\u001b[0;34m(\u001b[0m\u001b[0;34m\".weights.h5\"\u001b[0m\u001b[0;34m)\u001b[0m\u001b[0;34m:\u001b[0m\u001b[0;34m\u001b[0m\u001b[0;34m\u001b[0m\u001b[0m\n\u001b[0;32m--> 224\u001b[0;31m         raise ValueError(\n\u001b[0m\u001b[1;32m    225\u001b[0m             \u001b[0;34m\"The filename must end in `.weights.h5`. \"\u001b[0m\u001b[0;34m\u001b[0m\u001b[0;34m\u001b[0m\u001b[0m\n\u001b[1;32m    226\u001b[0m             \u001b[0;34mf\"Received: filepath={filepath}\"\u001b[0m\u001b[0;34m\u001b[0m\u001b[0;34m\u001b[0m\u001b[0m\n",
            "\u001b[0;31mValueError\u001b[0m: The filename must end in `.weights.h5`. Received: filepath=generator_weights.h5"
          ]
        }
      ],
      "source": [
        "# 保存为 HDF5\n",
        "generator.save('generator.h5')\n",
        "discriminator.save('discriminator.h5')\n",
        "\n",
        "# 保存为 SavedModel\n",
        "tf.saved_model.save(generator, 'generator_savedmodel')\n",
        "tf.saved_model.save(discriminator, 'discriminator_savedmodel')\n",
        "\n",
        "# 仅保存权重\n",
        "generator.save_weights('generator.weights.h5')\n",
        "discriminator.save_weights('discriminator.weights.h5')"
      ]
    },
    {
      "cell_type": "code",
      "execution_count": null,
      "id": "ec5fa5ff-916f-42df-9852-29555c72c6f6",
      "metadata": {
        "id": "ec5fa5ff-916f-42df-9852-29555c72c6f6",
        "outputId": "fa877c49-b716-49b7-d720-24d66fa10efe"
      },
      "outputs": [
        {
          "data": {
            "image/png": "[encoded data removed]",
            "text/plain": [
              "<Figure size 1000x1000 with 9 Axes>"
            ]
          },
          "metadata": {},
          "output_type": "display_data"
        }
      ],
      "source": [
        "import tensorflow as tf\n",
        "import numpy as np\n",
        "import matplotlib.pyplot as plt\n",
        "\n",
        "# 1. 加载生成器（假设已训练）\n",
        "\"\"\"\n",
        "# 从 HDF5 加载\n",
        "generator = load_model('generator.h5')\n",
        "discriminator = load_model('discriminator.h5')\n",
        "\n",
        "# 从 SavedModel 加载\n",
        "generator = tf.saved_model.load('generator_savedmodel')\n",
        "discriminator = tf.saved_model.load('discriminator_savedmodel')\n",
        "\n",
        "# 仅加载权重（需先重建模型）\n",
        "generator = build_generator(noise_dim=100)  # 先定义结构\n",
        "generator.load_weights('generator_weights.h5')\n",
        "\n",
        "discriminator = build_discriminator()\n",
        "discriminator.load_weights('discriminator_weights.h5')\n",
        "\"\"\"\n",
        "generator = tf.keras.models.load_model('generator.h5')\n",
        "\n",
        "# 2. 生成随机噪声\n",
        "noise_dim = 100\n",
        "num_samples = 9\n",
        "noise = tf.random.normal([num_samples, noise_dim])\n",
        "\n",
        "# 3. 生成图像\n",
        "generated_images = generator(noise, training=False).numpy()  # 转换为 NumPy 数组\n",
        "\n",
        "# 4. 调整形状\n",
        "if len(generated_images.shape) == 2:  # 形状为 (batch_size, 784)\n",
        "    generated_images = generated_images.reshape(-1, 28, 28)\n",
        "elif len(generated_images.shape) == 4:  # 形状为 (batch_size, 28, 28, 1)\n",
        "    generated_images = generated_images.squeeze()  # 去除通道维度\n",
        "\n",
        "# 5. 归一化到 [0, 255] 并转换为 uint8\n",
        "generated_images = (generated_images * 127.5 + 127.5).astype(np.uint8)\n",
        "\n",
        "# 6. 显示图像\n",
        "plt.figure(figsize=(10, 10))\n",
        "num_samples = min(num_samples, generated_images.shape[0])  # 防止索引越界\n",
        "for i in range(num_samples):\n",
        "    plt.subplot(3, 3, i+1)\n",
        "    plt.imshow(generated_images[i], cmap='gray')\n",
        "    plt.axis('off')\n",
        "plt.show()"
      ]
    },
    {
      "cell_type": "code",
      "execution_count": null,
      "id": "9c2cbfc4-1e78-41c0-b0a6-d348194d6e88",
      "metadata": {
        "id": "9c2cbfc4-1e78-41c0-b0a6-d348194d6e88"
      },
      "outputs": [],
      "source": [
        "# 保存生成的图片\n",
        "from PIL import Image\n",
        "\n",
        "for i in range(num_samples):\n",
        "    img = Image.fromarray(generated_images[i])\n",
        "    img.save(f'generated_image_{i}.png')"
      ]
    }
  ],
  "metadata": {
    "kernelspec": {
      "display_name": "Python 3 (ipykernel)",
      "language": "python",
      "name": "python3"
    },
    "language_info": {
      "codemirror_mode": {
        "name": "ipython",
        "version": 3
      },
      "file_extension": ".py",
      "mimetype": "text/x-python",
      "name": "python",
      "nbconvert_exporter": "python",
      "pygments_lexer": "ipython3",
      "version": "3.8.10"
    },
    "colab": {
      "provenance": []
    }
  },
  "nbformat": 4,
  "nbformat_minor": 5
}